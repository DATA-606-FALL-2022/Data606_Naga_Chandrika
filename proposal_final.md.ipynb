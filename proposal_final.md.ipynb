{
 "cells": [
  {
   "cell_type": "markdown",
   "id": "a1299389",
   "metadata": {},
   "source": [
    "# DRAFT PROPOSAL"
   ]
  },
  {
   "cell_type": "markdown",
   "id": "cdad6bae",
   "metadata": {},
   "source": [
    "## Project Title: LOS ANGELES CRIME DATA ANALYSIS"
   ]
  },
  {
   "cell_type": "markdown",
   "id": "f6a835e3",
   "metadata": {},
   "source": [
    "Name: Naga Chandrika Bhamidi\n",
    "    \n",
    "Date: 09/18/2022"
   ]
  },
  {
   "cell_type": "markdown",
   "id": "b4d1231e",
   "metadata": {},
   "source": [
    "## Overview:"
   ]
  },
  {
   "cell_type": "markdown",
   "id": "c62dcde9",
   "metadata": {},
   "source": [
    "Los Angeles is located in southern California and is the second most populous city in the United States (second only to New York), as well as the heart of the film and television industries. According to the International Association of Crime Analysts (IACA), crime analysis is defined as a profession and process in which a set of quantitative and qualitative techniques are used to analyze data valuable to police agencies and their communities. It includes the analysis of crime and criminals, crime victims, disorder, quality of life issues, traffic issues, and internal police operations, and its results support criminal investigation and prosecution, patrol activities, crime prevention and reduction strategies, problem solving, and the evaluation of police efforts."
   ]
  },
  {
   "cell_type": "markdown",
   "id": "71f4b8b3",
   "metadata": {},
   "source": [
    "This data set contains the \"Los Angeles crime data history.\" A crime is an unlawful conduct, and we have heard about many sorts of crimes that have occurred in various locations. In this section, I will classify the Los Angeles crime report, which covers all sorts of crimes that are typed on paper, and therefore there may be some inaccuracies within the data. We have data from the year 2020 until the present."
   ]
  },
  {
   "cell_type": "markdown",
   "id": "cbcddaee",
   "metadata": {},
   "source": [
    "## Dataset:"
   ]
  },
  {
   "cell_type": "markdown",
   "id": "35ea4918",
   "metadata": {},
   "source": [
    "#### Data Source: https://data.lacity.org/Public-Safety/Crime-Data-from-2020-to-Present/2nrs-mtv8"
   ]
  },
  {
   "cell_type": "markdown",
   "id": "60a745a8",
   "metadata": {},
   "source": [
    "This collection includes all legitimate felony, misdemeanor, and infraction offenses reported to the Los Angeles Police Department. The data set consist of 564162 rows and 28 columns which is collected from 2020 to present. Because the data set contains the most recent crime data, we can clearly analyze the reasons and links between the crimes by taking the victims' age, type of crime, and all the variables in the data set, which helps people to have a clear idea of how to protect or overcome the crimes and also police departments to prevent more crimes from occurring."
   ]
  },
  {
   "cell_type": "markdown",
   "id": "2b1b9e58",
   "metadata": {},
   "source": [
    "## Variables in dataset:"
   ]
  },
  {
   "cell_type": "markdown",
   "id": "70bc00af",
   "metadata": {},
   "source": [
    "\n",
    "•\tDR_NO - Division of Records Number: Official file number made up of a 2-digit year, area ID, and 5 digits.\n",
    "    \n",
    "•\tDATE OCC - Date of crime occurrence (YYYY-MM-DD)\n",
    "\n",
    "•\tAREA - The LAPD has 21 Community Police Stations referred to as Geographic Areas within the department. These Geographic Areas are sequentially numbered from 1-21.\n",
    "\n",
    "•\tAREA NAME - The 21 Geographic Areas or Patrol Divisions are also given a name designation that references a landmark or the surrounding community that it is responsible for.\n",
    "\n",
    "•\tRpt Dist No - Code that represents a sub-area within a Geographic Area.\n",
    "\n",
    "•\tCrm Cd - Indicates the crime committed.\n",
    "\n",
    "•\tCrm Cd Desc - Defines the Crime Code provided.\n",
    "\n",
    "•\tVict Age - Indicates the age of the victim.\n",
    "\n",
    "•\tVict Sex - F: Female M: Male X: Unknown\n",
    "            \n",
    "•\tPremis Cd - The type of structure, vehicle, or location where the crime took place.\n",
    "\n",
    "•\tPremis Desc - Defines the Premise Code provided.\n",
    "\n",
    "•\tWeapon Used Cd - The type of weapon used in the crime.\n",
    "\n",
    "•\tWeapon Desc - Defines the Weapon Used Code provided.\n",
    "\n",
    "•\tLOCATION - Street address of crime incident rounded to the nearest hundred block to maintain anonymity.\n",
    "\n",
    "•\tLAT - Latitude Coordinate.\n",
    "\n",
    "•\tLON - Longitude Coordinate\n",
    "\n",
    "•\tVict Descent - Descent Code: A - Other Asian B - Black C - Chinese D - Cambodian F - Filipino G - Guamanian H - Hispanic/Latin/Mexican I - American Indian/Alaskan Native J - Japanese K - Korean L - Laotian O - Other P - Pacific Islander S - Samoan U - Hawaiian V - Vietnamese W - White X - Unknown Z - Asian Indian \n"
   ]
  },
  {
   "cell_type": "markdown",
   "id": "e8e81b7d",
   "metadata": {},
   "source": [
    "## Techniques and Models:"
   ]
  },
  {
   "cell_type": "markdown",
   "id": "681f2fc6",
   "metadata": {},
   "source": [
    "• Decision Tree Classifier\n",
    "\n",
    "• Random forest\n",
    "\n",
    "• Support vector machine\n",
    "\n",
    "• Decision tree\n",
    "\n",
    "• K-nearest neighbor\n",
    "\n",
    "• Logistic Regression\n"
   ]
  },
  {
   "cell_type": "markdown",
   "id": "c6ef8911",
   "metadata": {},
   "source": [
    "## Outcome:"
   ]
  },
  {
   "cell_type": "markdown",
   "id": "d60676c9",
   "metadata": {},
   "source": [
    "I would like to build the models using a pipeline and explain how ML models can be used to predict the exact location and weapons used against the victim in a crime. Using EDA, I want to find out and plot the top crime zones, which are the main areas where crimes have occurred, types of crimes, suspects' ages, suspects' gender, and the locations where the crimes are commonly committed."
   ]
  },
  {
   "cell_type": "markdown",
   "id": "ec158452",
   "metadata": {},
   "source": [
    "## References:"
   ]
  },
  {
   "cell_type": "markdown",
   "id": "a8367f49",
   "metadata": {},
   "source": [
    "https://data.lacity.org/Public-Safety/Crime-Data-from-2020-to-Present/2nrs-mtv8 https://medium.com/analytics-vidhya/los-angeles-crime-data-analysis-using-pandas-a68780d80a83\n",
    "https://bja.ojp.gov/sites/g/files/xyckuh186/files/media/document/OverviewofCrimeAnalysis.pdf\n"
   ]
  },
  {
   "cell_type": "code",
   "execution_count": null,
   "id": "d2c71247",
   "metadata": {},
   "outputs": [],
   "source": []
  }
 ],
 "metadata": {
  "kernelspec": {
   "display_name": "Python 3 (ipykernel)",
   "language": "python",
   "name": "python3"
  },
  "language_info": {
   "codemirror_mode": {
    "name": "ipython",
    "version": 3
   },
   "file_extension": ".py",
   "mimetype": "text/x-python",
   "name": "python",
   "nbconvert_exporter": "python",
   "pygments_lexer": "ipython3",
   "version": "3.9.7"
  }
 },
 "nbformat": 4,
 "nbformat_minor": 5
}
